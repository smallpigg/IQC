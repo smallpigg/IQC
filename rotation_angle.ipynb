{
 "cells": [
  {
   "cell_type": "code",
   "execution_count": 14,
   "id": "c55f57dc-0a52-4e75-a35f-e86cb450afe9",
   "metadata": {},
   "outputs": [
    {
     "name": "stdout",
     "output_type": "stream",
     "text": [
      "Rotation angle in radians: 6.263185973806264\n",
      "Rotation angle in degrees: 358.8541226046335\n",
      "Rotation axis: 0.0, -0.007070714284989176, 0.007070714284989176, 0\n"
     ]
    }
   ],
   "source": [
    "import math\n",
    "\n",
    "# 定义四元数类\n",
    "class Quaternion:\n",
    "    def __init__(self, w, x, y, z):\n",
    "        self.w = w\n",
    "        self.x = x\n",
    "        self.y = y\n",
    "        self.z = z\n",
    "\n",
    "    def __mul__(self, other):\n",
    "        return Quaternion(\n",
    "            self.w * other.w - self.x * other.x - self.y * other.y - self.z * other.z,\n",
    "            self.w * other.x + self.x * other.w + self.y * other.z - self.z * other.y,\n",
    "            self.w * other.y - self.x * other.z + self.y * other.w + self.z * other.x,\n",
    "            self.w * other.z + self.x * other.y - self.y * other.x + self.z * other.w\n",
    "        )\n",
    "\n",
    "    def norm(self):\n",
    "        return math.sqrt(self.w**2 + self.x**2 + self.y**2 + self.z**2)\n",
    "\n",
    "    def normalize(self):\n",
    "        norm = self.norm()\n",
    "        if norm == 0:\n",
    "            raise ValueError(\"Cannot normalize a quaternion with zero norm.\")\n",
    "        return Quaternion(self.w / norm, self.x / norm, self.y / norm, self.z / norm)\n",
    "\n",
    "    def rotation_angle_and_axis(self):\n",
    "        norm = self.norm()\n",
    "        if norm == 0:\n",
    "            raise ValueError(\"Cannot calculate rotation angle and axis for a quaternion with zero norm.\")\n",
    "        angle = 2 * math.acos(self.w / norm)\n",
    "        axis = Quaternion(self.x / norm, self.y / norm, self.z / norm, 0)\n",
    "        return angle, axis\n",
    "\n",
    "# 定义两个传感器的四元数\n",
    "sensor1 = Quaternion(0, 0.01, math.sqrt(1/2), math.sqrt(1/2))  # 假设第一个传感器是沿着x轴的单位四元数\n",
    "sensor2 = Quaternion(0, 0, math.sqrt(1/2), math.sqrt(1/2))  # 假设第二个传感器是沿着y=z平面45度的单位四元数\n",
    "\n",
    "# 计算两个四元数的乘积，得到旋转\n",
    "rotation = sensor1 * sensor2\n",
    "\n",
    "# 归一化旋转四元数\n",
    "rotation_normalized = rotation.normalize()\n",
    "\n",
    "# 计算旋转角度和旋转轴\n",
    "angle, axis = rotation_normalized.rotation_angle_and_axis()\n",
    "\n",
    "# 将弧度转换为度数\n",
    "angle_degrees = math.degrees(angle)\n",
    "\n",
    "print(f\"Rotation angle in radians: {angle}\")\n",
    "print(f\"Rotation angle in degrees: {angle_degrees}\")\n",
    "print(f\"Rotation axis: {axis.w}, {axis.x}, {axis.y}, {axis.z}\")"
   ]
  },
  {
   "cell_type": "code",
   "execution_count": null,
   "id": "edf6b8b7-e64a-417b-818d-8e63440abbf5",
   "metadata": {},
   "outputs": [],
   "source": []
  }
 ],
 "metadata": {
  "kernelspec": {
   "display_name": "Python 3 (ipykernel)",
   "language": "python",
   "name": "python3"
  },
  "language_info": {
   "codemirror_mode": {
    "name": "ipython",
    "version": 3
   },
   "file_extension": ".py",
   "mimetype": "text/x-python",
   "name": "python",
   "nbconvert_exporter": "python",
   "pygments_lexer": "ipython3",
   "version": "3.11.5"
  }
 },
 "nbformat": 4,
 "nbformat_minor": 5
}
