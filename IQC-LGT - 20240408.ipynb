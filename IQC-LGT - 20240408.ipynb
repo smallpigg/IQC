{
 "cells": [
  {
   "cell_type": "markdown",
   "id": "e0ca3d3f-cc79-4723-b838-aa6e68079ed0",
   "metadata": {
    "editable": true,
    "slideshow": {
     "slide_type": ""
    },
    "tags": []
   },
   "source": [
    "## 请分步骤执行每个cell的代码，不可<font color=red> “Run All Cells”</font>"
   ]
  },
  {
   "cell_type": "markdown",
   "id": "161b0928-9d30-487c-a13e-947c12ceac87",
   "metadata": {
    "editable": true,
    "slideshow": {
     "slide_type": ""
    },
    "tags": []
   },
   "source": [
    "# step 1 将word文件放到word_files文件夹，读取原始的word文件内容到excel文件"
   ]
  },
  {
   "cell_type": "code",
   "execution_count": 1,
   "id": "58bc1b59-bed9-4b3b-9984-6284bc381c0b",
   "metadata": {
    "editable": true,
    "jupyter": {
     "source_hidden": true
    },
    "slideshow": {
     "slide_type": ""
    },
    "tags": []
   },
   "outputs": [
    {
     "name": "stdout",
     "output_type": "stream",
     "text": [
      "Done!\n"
     ]
    }
   ],
   "source": [
    "import os\n",
    "import docx\n",
    "import pandas as pd\n",
    "from pathlib import Path\n",
    "import read_words_tables as rt\n",
    "\n",
    "# 获取当前工作目录\n",
    "base_dir = Path.cwd()\n",
    "\n",
    "# 定义输入和输出文件夹\n",
    "input_folder = base_dir / \"word_files\"  # 包含Word文档的文件夹路径\n",
    "output_folder = base_dir / \"result\"     # 结果保存的文件夹\n",
    "output_file = output_folder / \"result.xlsx\"  # 结果Excel文件的路径\n",
    "\n",
    "# 确保输出文件夹存在\n",
    "output_folder.mkdir(exist_ok=True)\n",
    "\n",
    "# 定义想要读取的表格序号列表\n",
    "table_numbers = [0, -1, 1]\n",
    "\n",
    "# 处理Word文件\n",
    "rt.process_batch_word_files(input_folder, output_file, table_numbers)\n",
    "\n",
    "print('Done!')"
   ]
  },
  {
   "cell_type": "markdown",
   "id": "32a0281e-760b-4723-9ef3-3e7d60add13f",
   "metadata": {
    "editable": true,
    "slideshow": {
     "slide_type": ""
    },
    "tags": []
   },
   "source": [
    "# step 2 删除指定列"
   ]
  },
  {
   "cell_type": "code",
   "execution_count": 2,
   "id": "a0ecb725-c19c-4f09-a446-3288260cb26e",
   "metadata": {
    "editable": true,
    "jupyter": {
     "source_hidden": true
    },
    "slideshow": {
     "slide_type": ""
    },
    "tags": []
   },
   "outputs": [
    {
     "name": "stdout",
     "output_type": "stream",
     "text": [
      "Done!\n"
     ]
    }
   ],
   "source": [
    "import openpyxl\n",
    "from pathlib import Path\n",
    "\n",
    "def delete_columns_by_header(file_path, output_path, sheet_name, headers_to_delete):\n",
    "    \"\"\"\n",
    "    根据Excel工作表中第一行的内容删除指定的列\n",
    "\n",
    "    :param file_path: Excel文件的路径\n",
    "    :param sheet_name: 要操作的工作表名称\n",
    "    :param headers_to_delete: 一个包含要删除的列标题的列表\n",
    "    \"\"\"\n",
    "    # 加载工作簿和工作表\n",
    "    workbook = openpyxl.load_workbook(file_path)\n",
    "    sheet = workbook[sheet_name]\n",
    "\n",
    "    # 获取第一行的所有列标题\n",
    "    headers = [cell.value for cell in sheet[1]]\n",
    "\n",
    "    # 确定要删除的列索引\n",
    "    columns_to_delete = [headers.index(header) + 1 for header in headers_to_delete\n",
    "                         if header in headers]\n",
    "\n",
    "    # 按降序排列列索引，以便在删除时保持正确的索引\n",
    "    columns_to_delete.sort(reverse=True)\n",
    "\n",
    "    for col_index in columns_to_delete:\n",
    "        # 删除指定的列\n",
    "        sheet.delete_cols(col_index)\n",
    "\n",
    "    # 保存更改后的工作簿\n",
    "    workbook.save(output_path)\n",
    "\n",
    "# 获取当前工作目录\n",
    "base_dir = Path.cwd()\n",
    "\n",
    "# 定义输入和输出文件夹\n",
    "input_folder = base_dir / \"word_files\"  # 包含Word文档的文件夹路径\n",
    "output_folder = base_dir / \"result\"     # 结果保存的文件夹\n",
    "output_file = output_folder / \"result.xlsx\"  # 结果Excel文件的路径\n",
    "\n",
    "# 确保输出文件夹存在\n",
    "output_folder.mkdir(exist_ok=True)\n",
    "\n",
    "# 示例用法\n",
    "file_path = base_dir / \"result\" / \"result.xlsx\"  # 你的Excel文件路径\n",
    "sheet_name = \"Sheet1\"  # 你要操作的工作表名称\n",
    "\n",
    "# # 要删除的列标题列表-wq\n",
    "# headers_to_delete = [\"0-1-2\", \"0-2-1\", \"0-2-2\", \"0-2-3\", \"0-3-1\", \"0-3-2\", \"0-4-1\",\n",
    "#                      \"0-4-2\", \"0-4-3\", \"0-5-1\", \"0-5-2\", \"-1-1-1\", \"-1-1-2\", \"-1-1-3\",\n",
    "#                      \"-1-1-4\", \"1-1-1\", \"1-1-2\", \"1-1-3\", \"1-1-4\", \"1-1-5\", \"1-1-6\",\n",
    "#                      \"1-1-7\"]\n",
    "\n",
    "# 要删除的列标题列表-sj\n",
    "headers_to_delete = [\"0-1-2\", \"0-2-1\", \"0-2-2\", \"0-2-3\", \"0-3-1\", \"0-3-2\", \"0-4-1\",\n",
    "                     \"0-4-2\", \"0-4-3\", \"0-5-1\", \"0-5-2\", \"-1-1-1\", \"-1-1-2\", \"-1-1-3\",\n",
    "                     \"-1-1-4\",\"-1-1-5\", \"1-1-1\", \"1-1-2\", \"1-1-3\", \"1-1-4\", \"1-1-5\", \"1-1-6\",\n",
    "                     \"1-1-7\"]\n",
    "\n",
    "delete_columns_by_header(file_path, output_file, sheet_name, headers_to_delete)\n",
    "\n",
    "print(\"Done!\")"
   ]
  },
  {
   "cell_type": "markdown",
   "id": "f4e46240-81f4-4489-a151-a3f6f716ee19",
   "metadata": {
    "editable": true,
    "slideshow": {
     "slide_type": ""
    },
    "tags": []
   },
   "source": [
    "# step 3 替换指定字符串"
   ]
  },
  {
   "cell_type": "code",
   "execution_count": 3,
   "id": "2ddf5f55-e8f9-406f-bc6d-fc3f67725d38",
   "metadata": {
    "editable": true,
    "jupyter": {
     "source_hidden": true
    },
    "slideshow": {
     "slide_type": ""
    },
    "tags": []
   },
   "outputs": [
    {
     "name": "stdout",
     "output_type": "stream",
     "text": [
      "Done!\n"
     ]
    }
   ],
   "source": [
    "import openpyxl\n",
    "from pathlib import Path\n",
    "\n",
    "def replace_string_in_excel(file_path, sheet_name, find_str, replace_str):\n",
    "    \"\"\"\n",
    "    将Excel工作表中的指定字符串替换为另一个字符串。\n",
    "\n",
    "    :param file_path: Excel文件的路径\n",
    "    :param sheet_name: 要操作的工作表名称\n",
    "    :param find_str: 要查找的字符串\n",
    "    :param replace_str: 用于替换的字符串\n",
    "    \"\"\"\n",
    "    # 加载工作簿和工作表\n",
    "    workbook = openpyxl.load_workbook(file_path)\n",
    "    sheet = workbook[sheet_name]\n",
    "\n",
    "    # 获取工作表的最大行和列数\n",
    "    max_row = sheet.max_row\n",
    "    max_col = sheet.max_column\n",
    "\n",
    "    for row in range(1, max_row + 1):\n",
    "        for col in range(1, max_col + 1):\n",
    "            # 获取单元格的值\n",
    "            cell_value = sheet.cell(row=row, column=col).value\n",
    "\n",
    "            # 检查单元格中是否包含要查找的字符串\n",
    "            if cell_value and find_str in str(cell_value):\n",
    "                # 替换字符串并将新值写回单元格\n",
    "                new_value = cell_value.replace(find_str, replace_str)\n",
    "                sheet.cell(row=row, column=col).value = new_value\n",
    "\n",
    "    # 保存更改后的工作簿\n",
    "    workbook.save(file_path)\n",
    "    # print(\"已完成字符串替换\")\n",
    "\n",
    "# 示例用法\n",
    "# 获取当前工作目录\n",
    "base_dir = Path.cwd()\n",
    "file_path = base_dir / \"result/result.xlsx\"  # 你的Excel文件路径\n",
    "\n",
    "sheet_name = \"Sheet1\"  # 你要操作的工作表名称\n",
    "find_str = \"\\n质量标准\\nQuality Standard\"  # 要查找的字符串\n",
    "replace_str = \"\"  # 用于替换的字符串\n",
    "\n",
    "replace_string_in_excel(file_path, sheet_name, find_str, replace_str)\n",
    "\n",
    "print(\"Done!\")"
   ]
  },
  {
   "cell_type": "markdown",
   "id": "aa063104-2317-41a2-9b6b-ca1d241748db",
   "metadata": {
    "editable": true,
    "jp-MarkdownHeadingCollapsed": true,
    "slideshow": {
     "slide_type": ""
    },
    "tags": []
   },
   "source": [
    "# step 4 根据需要修改excel文件的表头，并修改template模板文件。使excel文件表头和模板文件对应"
   ]
  },
  {
   "cell_type": "markdown",
   "id": "809245eb-6366-46cc-80f0-b70e8f8ddac5",
   "metadata": {
    "editable": true,
    "slideshow": {
     "slide_type": ""
    },
    "tags": []
   },
   "source": [
    "# step 5 生成IQC文件，此步骤可以修改文件名等。"
   ]
  },
  {
   "cell_type": "code",
   "execution_count": 6,
   "id": "b8e8a51b-f592-4b71-b0c9-2e4e3c2cb95c",
   "metadata": {
    "editable": true,
    "slideshow": {
     "slide_type": ""
    },
    "tags": []
   },
   "outputs": [
    {
     "name": "stdout",
     "output_type": "stream",
     "text": [
      "AIA-IQC-023  is done!\n",
      "AIA-IQC-024  is done!\n",
      "AIA-IQC-025  is done!\n",
      "AIA-IQC-026  is done!\n",
      "AIA-IQC-027  is done!\n",
      "AIA-IQC-028  is done!\n",
      "All Done!\n"
     ]
    }
   ],
   "source": [
    "from docxtpl import DocxTemplate  # pip install docxtpl\n",
    "import docx\n",
    "import pandas as pd\n",
    "from docx.shared import Pt,RGBColor\n",
    "from docx.enum.text import WD_PARAGRAPH_ALIGNMENT\n",
    "from docx.enum.text import WD_TAB_ALIGNMENT\n",
    "from docx.enum.text import WD_PARAGRAPH_ALIGNMENT\n",
    "from docx.enum.table import WD_TABLE_ALIGNMENT\n",
    "from docx.oxml import OxmlElement\n",
    "from docx.oxml.ns import qn\n",
    "from pathlib import Path\n",
    "\n",
    "def set_cell_border(cell, **kwargs):\n",
    "    \"\"\"\n",
    "    Set cell`s border\n",
    "    Usage:\n",
    "    set_cell_border(\n",
    "        cell,\n",
    "        top={\"sz\": 12, \"val\": \"single\", \"color\": \"#FF0000\", \"space\": \"0\"},\n",
    "        bottom={\"sz\": 12, \"color\": \"#00FF00\", \"val\": \"single\"},\n",
    "        left={\"sz\": 24, \"val\": \"dashed\", \"shadow\": \"true\"},\n",
    "        right={\"sz\": 12, \"val\": \"dashed\"},\n",
    "    )\n",
    "    \"\"\"\n",
    "    tc = cell._tc\n",
    "    tcPr = tc.get_or_add_tcPr()\n",
    "\n",
    "    # check for tag existnace, if none found, then create one\n",
    "    tcBorders = tcPr.first_child_found_in(\"w:tcBorders\")\n",
    "    if tcBorders is None:\n",
    "        tcBorders = OxmlElement('w:tcBorders')\n",
    "        tcPr.append(tcBorders)\n",
    "\n",
    "    # list over all available tags\n",
    "    for edge in ('left', 'top', 'right', 'bottom', 'insideH', 'insideV'):\n",
    "        edge_data = kwargs.get(edge)\n",
    "        if edge_data:\n",
    "            tag = 'w:{}'.format(edge)\n",
    "\n",
    "            # check for tag existnace, if none found, then create one\n",
    "            element = tcBorders.find(qn(tag))\n",
    "            if element is None:\n",
    "                element = OxmlElement(tag)\n",
    "                tcBorders.append(element)\n",
    "\n",
    "            # looks like order of attributes is important\n",
    "            for key in [\"sz\", \"val\", \"color\", \"space\", \"shadow\"]:\n",
    "                if key in edge_data:\n",
    "                    element.set(qn('w:{}'.format(key)), str(edge_data[key]))\n",
    "def delete_paragraph(paragraph):\n",
    "    p = paragraph._element\n",
    "    p.getparent().remove(p)\n",
    "    p._p = p._element = None\n",
    "\n",
    "def delete_empty_rows(table, n):\n",
    "    # 增加对n和表格列数的比较\n",
    "    for row in table.rows:\n",
    "        X_cell = row.cells[n-1]\n",
    "        if X_cell.text == 'nan' or X_cell.text == '':\n",
    "            row._element.getparent().remove(row._element)\n",
    "\n",
    "# 设置打印内容的显示宽度和长度\n",
    "pd.set_option('display.max_rows', 500)\n",
    "pd.set_option('display.max_columns', 100)\n",
    "pd.set_option('display.width', 1000)\n",
    "\n",
    "# 读取文件地址到变量中\n",
    "base_dir = Path.cwd() # 获取当前工作目录\n",
    "IQC_B_path = base_dir / \"template/IQC-B.docx\"\n",
    "TB_IQC_B_path = base_dir / \"template/TB-IQC-B.docx\"\n",
    "TB_IQC_000_path = base_dir / \"template/TB-IQC-000.docx\"\n",
    "TZD_AAA_B_IQC_path = base_dir / \"template/TZD-AAA-B-IQC.docx\"\n",
    "TZD_AAA_B_TB_IQC_path = base_dir / \"template/TZD-AAA-B-TB-IQC.docx\"\n",
    "TZD_ABA_B_IQC_path = base_dir / \"template/TZD-ABA-B-IQC.docx\"\n",
    "TZD_ABA_B_TB_IQC_path = base_dir / \"template/TZD-ABA-B-TB-IQC.docx\"\n",
    "TZD_AAA_B_IQC_path_new = base_dir / \"template/TZD-AAA-B-IQC-new.docx\"\n",
    "TZD_AAA_B_TB_IQC_path_new = base_dir / \"template/TZD-AAA-B-TB-IQC-new.docx\"\n",
    "TZD_ABA_B_IQC_path_new = base_dir / \"template/TZD-ABA-B-IQC-new.docx\"\n",
    "TZD_ABA_B_TB_IQC_path_new = base_dir / \"template/TZD-ABA-B-TB-IQC-new.docx\"\n",
    "\n",
    "excel_path = base_dir / \"result/result-edited.xlsx\"\n",
    "\n",
    "# 文件保存地址\n",
    "output_dir = base_dir / \"output\"\n",
    "# Create output folder for the word documents\n",
    "output_dir.mkdir(exist_ok=True)\n",
    "\n",
    "# Convert Excel sheet to pandas dataframe\n",
    "df = pd.read_excel(excel_path, sheet_name=\"Sheet1\")\n",
    "\n",
    "# 日期格式转换\n",
    "# df[\"修改日期\"] = pd.to_datetime(df[\"修改日期\"]).dt.date\n",
    "# df[\"申请日期\"] = pd.to_datetime(df[\"申请日期\"]).dt.date\n",
    "# df[\"A版日期\"] = pd.to_datetime(df[\"A版日期\"]).dt.date\n",
    "for col in df.columns:\n",
    "    if \"日期\" in col:\n",
    "        df[col] = pd.to_datetime(df[col]).dt.date\n",
    "\n",
    "\n",
    "# 增加IQC文件编号\n",
    "df[\"IQC文件编号\"] = df[\"质量标准编号\"]\n",
    "for i in range(0, len(df)):\n",
    "    str1 = df.loc[i, '质量标准编号']\n",
    "    str1 = str1.replace(\"MAT\",\"IQC\",1)\n",
    "    df.loc[i, 'IQC文件编号'] = str1\n",
    "\n",
    "# 增加物料名称\n",
    "# df[\"IQC物料名称\"] = df[\"质量标准文件名称\"]\n",
    "# for i in range(0, len(df)):\n",
    "#     str1 = df.loc[i, '质量标准文件名称']\n",
    "#     str1 = str1.split(\" \",2)\n",
    "#     df.loc[i, 'IQC物料名称'] = str1[1]\n",
    "\n",
    "# 增加IQC文件名称\n",
    "df[\"IQC文件名称\"] = df[\"物资名称\"]\n",
    "\n",
    "for i in range(0, len(df)):\n",
    "    str1 = str(df.loc[i, '物资编号']) + '_' + df.loc[i, '版本1'] + '版_' + df.loc[i, 'IQC文件编号'] + '_' + df.loc[i, '物资名称'] + '_' + '进货检验作业指导书.docx'\n",
    "    df.loc[i, 'IQC文件名称'] = str1\n",
    "\n",
    "# 增加IQC文件记录文件名称\n",
    "df[\"IQC记录文件名称\"] = df[\"物资名称\"]\n",
    "for i in range(0, len(df)):\n",
    "    str1 = str(df.loc[i, '物资编号']) + '_' + df.loc[i, '版本1'] + '版_' + 'TB-' + df.loc[i, 'IQC文件编号'] + '_' + df.loc[i, '物资名称'] + '_' + '进货检验记录.docx'\n",
    "    df.loc[i, 'IQC记录文件名称'] = str1\n",
    "\n",
    "# 增加IQC文件记录通知单文件名称\n",
    "df[\"IQC文件通知单名称\"] = df[\"物资名称\"]\n",
    "for i in range(0, len(df)):\n",
    "    str1 = str(df.loc[i, '物资编号']) + '_' + df.loc[i, '版本1'] + '版_' + df.loc[i, 'IQC文件编号'] + '_' + df.loc[i, '物资名称'] + '_' + '进货检验作业指导书文件记录更改通知单.docx'\n",
    "    df.loc[i, 'IQC文件通知单名称'] = str1\n",
    "\n",
    "# 增加TBIQC文件记录通知单文件名称\n",
    "df[\"IQC记录文件通知单名称\"] = df[\"物资名称\"]\n",
    "for i in range(0, len(df)):\n",
    "    str1 = str(df.loc[i, '物资编号']) + '_' + df.loc[i, '版本1'] + '版_' + 'TB-' + df.loc[i, 'IQC文件编号'] + '_' + df.loc[i, '物资名称'] + '_' + '进货检验记录文件记录更改通知单.docx'\n",
    "    df.loc[i, 'IQC记录文件通知单名称'] = str1\n",
    "\n",
    "# 读取记录单中填表需要的两个单元格内容\n",
    "document = docx.Document(TB_IQC_000_path)\n",
    "tables = document.tables\n",
    "cell1 = tables[0].cell(1, 3)\n",
    "cell2 = tables[0].cell(2, 3)\n",
    "\n",
    "for record in df.to_dict(orient=\"records\"):\n",
    "    # 生成IQC文件\n",
    "    doc = DocxTemplate(IQC_B_path)\n",
    "    doc.render(record)\n",
    "    output_path = output_dir / f\"{record['IQC文件名称']}\"\n",
    "    doc.save(output_path)\n",
    "\n",
    "    checkbox_value = 1\n",
    "    if checkbox_value:\n",
    "        doc = docx.Document(output_path)\n",
    "        for table in doc.tables:\n",
    "            delete_empty_rows(table, 3)\n",
    "        doc.save(output_path)\n",
    "    \n",
    "    # 生成记录单\n",
    "    # 渲染表格内容\n",
    "    doc = DocxTemplate(TB_IQC_B_path)\n",
    "    doc.render(record)\n",
    "    output_path = output_dir / f\"{record['IQC记录文件名称']}\"\n",
    "    doc.save(output_path)\n",
    "\n",
    "    # 填充表格\n",
    "    document = docx.Document(output_path)\n",
    "    tables = document.tables\n",
    "    table1 = tables[0]\n",
    "    table2 = tables[1]\n",
    "\n",
    "    a = 0\n",
    "    str_chouyang = '___,(___,___)'\n",
    "    str_shebeiNum = '设备编号:_________'\n",
    "    for i in range(1, 10):\n",
    "        keywords = [\"长度\", \"高度\", \"直径\", \"尺寸\",\"距离精度\", \"重复精度\",\"宽度\",\"外径\",\"内径\",\"厚度\"]\n",
    "        contains_keyword = any(keyword in str(record['项目' + str(i)]) for keyword in keywords)\n",
    "        # if contains_keyword:\n",
    "        #     print(\"str中包含一组字符串中的任意一个\")\n",
    "        # else:\n",
    "        #     print(\"str中不包含一组字符串中的任意一个\")\n",
    "        if contains_keyword:\n",
    "            table2.cell(i+2, 0).text = str(i) + '.'\n",
    "            table2.cell(i+2, 0).paragraphs[0].alignment = WD_TAB_ALIGNMENT.CENTER\n",
    "            table2.cell(i+2, 1).text = str(record['项目' + str(i)])\n",
    "            table2.cell(i+2, 1).paragraphs[0].alignment = WD_TAB_ALIGNMENT.LEFT\n",
    "            table2.cell(i+2, 2).text = record['抽样方案' + str(i)] + '\\n' + str_chouyang\n",
    "            table2.cell(i+2, 2).paragraphs[0].alignment = WD_TAB_ALIGNMENT.LEFT\n",
    "            table2.cell(i+2, 3).text = record['检测器具和设备' + str(i)] + '\\n' + str_shebeiNum\n",
    "            table2.cell(i+2, 3).paragraphs[0].alignment = WD_TAB_ALIGNMENT.LEFT\n",
    "            table2.cell(i+2, 4).text = record['接收标准' + str(i)]\n",
    "            table2.cell(i+2, 4).paragraphs[0].alignment = WD_TAB_ALIGNMENT.LEFT\n",
    "            a += 1\n",
    "        elif str(record['项目' + str(i)]) != \"nan\":\n",
    "            list_string = [record['项目'+str(i)]]\n",
    "            string_set = set(['材料', '材质', '产品包装', '单证资料', '规格型号', '合格证明', '认证资料', '产品描述', '初始污染菌', '不溶性微粒', '包装'])\n",
    "            row = table1.add_row()\n",
    "            row.cells[0].text = str(i) + '.'\n",
    "            row.cells[0].paragraphs[0].alignment = WD_TAB_ALIGNMENT.CENTER\n",
    "            row.cells[1].text = record['项目' + str(i)]\n",
    "            row.cells[1].paragraphs[0].alignment = WD_TAB_ALIGNMENT.LEFT\n",
    "            row.cells[2].text = record['抽样方案' + str(i)] + '\\n' + str_chouyang\n",
    "            row.cells[2].paragraphs[0].alignment = WD_TAB_ALIGNMENT.LEFT\n",
    "            row.cells[3].text = record['检测器具和设备' + str(i)] + '\\n' + str_shebeiNum\n",
    "            row.cells[3].paragraphs[0].alignment = WD_TAB_ALIGNMENT.LEFT\n",
    "            row.cells[4].text = record['接收标准' + str(i)]\n",
    "            row.cells[4].paragraphs[0].alignment = WD_TAB_ALIGNMENT.LEFT\n",
    "            if all([word in string_set for word in list_string]):\n",
    "                run = table1.cell(len(table1.rows) - 1, 5).paragraphs[0].add_run(cell1.text)\n",
    "            else:\n",
    "                run = table1.cell(len(table1.rows) - 1, 5).paragraphs[0].add_run(cell2.text)\n",
    "            run.font.name = u'宋体'\n",
    "            run.font.size = Pt(7.5)\n",
    "            run._element.rPr.rFonts.set(qn('w:eastAsia'), u'宋体')\n",
    "            for cell in row.cells:\n",
    "                # for paragraph in cell.paragraphs:\n",
    "                #     for run in paragraph.runs:\n",
    "                #         run.font.size = Pt(7.5)\n",
    "                cell.vertical_alignment = WD_PARAGRAPH_ALIGNMENT.CENTER\n",
    "                # cell.paragraphs[0].paragraph_format.alignment = WD_TAB_ALIGNMENT.CENTER\n",
    "                set_cell_border(cell,\n",
    "                                top={\"sz\": 4, \"val\": \"single\", \"color\": \"#000000\", \"space\": \"0\"},\n",
    "                                bottom={\"sz\": 4, \"val\": \"single\", \"color\": \"#000000\", \"space\": \"0\"},\n",
    "                                left={\"sz\": 4, \"val\": \"single\", \"color\": \"#000000\", \"space\": \"0\"},\n",
    "                                right={\"sz\": 4, \"val\": \"single\", \"color\": \"#000000\", \"space\": \"0\"},\n",
    "                                insideH={\"sz\": 4, \"val\": \"single\", \"color\": \"#000000\", \"space\": \"0\"},\n",
    "                                end={\"sz\": 4, \"val\": \"single\", \"color\": \"#000000\", \"space\": \"0\"})\n",
    "            a += 1\n",
    "        else:\n",
    "            break\n",
    "\n",
    "    ChicunrowNum = 25\n",
    "\n",
    "    total_tables = len(document.tables)\n",
    "    for index, table in enumerate(document.tables):\n",
    "        if index == total_tables - 1:\n",
    "            continue\n",
    "        delete_empty_rows(table, 5)\n",
    "    \n",
    "    # 获取第二个表格(尺寸表格)\n",
    "    table3 = document.tables[1]\n",
    "    if len(table3.rows)==2:\n",
    "        table3._element.clear()\n",
    "\n",
    "    def replace_string_in_table(doc, string_to_replace, new_string):\n",
    "        for table in doc.tables:\n",
    "            for row in table.rows:\n",
    "                for cell in row.cells:\n",
    "                    if string_to_replace in cell.text:\n",
    "                        cell.text = new_string\n",
    "                    for paragraph in cell.paragraphs:\n",
    "                        for run in paragraph.runs:\n",
    "                            run.font.size = Pt(7.5)\n",
    "\n",
    "    # 替换文件中表格内容里特定的字符串\n",
    "    replace_string_in_table(document, \"首批检验一次\" + \"\\n\" + \"\\n\" + str_chouyang, \"首批检验一次\")\n",
    "    replace_string_in_table(document, \"/\" + \"\\n\" + str_shebeiNum, \"/\")\n",
    "    replace_string_in_table(document, \"日光灯\" + \"\\n\" + str_shebeiNum, \"日光灯\")\n",
    "    replace_string_in_table(document, \"目视\" + \"\\n\" + str_shebeiNum, \"目视\")\n",
    "    replace_string_in_table(document, \"全检\" + \"\\n\"  + str_chouyang, \"全检\")\n",
    "    replace_string_in_table(document, \"首批检验一次\" + \"\\n\" + str_chouyang, \"首批检验一次\")\n",
    "    replace_string_in_table(document, \"3 pcs/批\" + \"\\n\" + str_chouyang, \"3 pcs/批\")\n",
    "    replace_string_in_table(document, \"4 pcs/批\" + \"\\n\" + str_chouyang, \"4 pcs/批\")\n",
    "    replace_string_in_table(document, \"3PCS/卷\" + \"\\n\" + str_chouyang, \"3PCS/卷\")\n",
    "    replace_string_in_table(document, \"3PCS/批\" + \"\\n\" + str_chouyang, \"3PCS/批\")\n",
    "    replace_string_in_table(document, \"首检\" + \"\\n\" + str_chouyang, \"首检\")\n",
    "\n",
    "    # string_to_replace9 = \"3PCS/卷\" + \"\\n\" + str_chouyang\n",
    "    # new_string9 = \"3PCS/卷\"\n",
    "    # replace_string_in_table(document, string_to_replace9, new_string9)\n",
    "    \n",
    "    document.save(output_path)\n",
    "\n",
    "    # 生成AAA两个通知单\n",
    "    if record['质量标准编号'][:3] == 'AIA':\n",
    "        if record['版本1'] == 'A':\n",
    "            doc = DocxTemplate(TZD_AAA_B_IQC_path_new)\n",
    "            doc.render(record)\n",
    "            output_path = output_dir / f\"{record['IQC文件通知单名称']}\"\n",
    "            doc.save(output_path)\n",
    "        else:\n",
    "            doc = DocxTemplate(TZD_AAA_B_IQC_path)\n",
    "            doc.render(record)\n",
    "            output_path = output_dir / f\"{record['IQC文件通知单名称']}\"\n",
    "            doc.save(output_path)\n",
    "        if record['版本1'] == 'A':\n",
    "            doc = DocxTemplate(TZD_AAA_B_TB_IQC_path_new)\n",
    "            doc.render(record)\n",
    "            output_path = output_dir / f\"{record['IQC记录文件通知单名称']}\"\n",
    "            doc.save(output_path)\n",
    "        else:\n",
    "            doc = DocxTemplate(TZD_AAA_B_TB_IQC_path)\n",
    "            doc.render(record)\n",
    "            output_path = output_dir / f\"{record['IQC记录文件通知单名称']}\"\n",
    "            doc.save(output_path)\n",
    "    # print('AAA', record['质量标准编号'][:3])\n",
    "    # 生成ABA两个通知单\n",
    "    else:\n",
    "        if record['版本1'] == 'A':\n",
    "            doc = DocxTemplate(TZD_ABA_B_IQC_path_new)\n",
    "            doc.render(record)\n",
    "            output_path = output_dir / f\"{record['IQC文件通知单名称']}\"\n",
    "            doc.save(output_path)\n",
    "        else:\n",
    "            doc = DocxTemplate(TZD_ABA_B_IQC_path)\n",
    "            doc.render(record)\n",
    "            output_path = output_dir / f\"{record['IQC文件通知单名称']}\"\n",
    "            doc.save(output_path)\n",
    "        if record['版本1'] == 'A':\n",
    "            doc = DocxTemplate(TZD_ABA_B_TB_IQC_path_new)\n",
    "            doc.render(record)\n",
    "            output_path = output_dir / f\"{record['IQC记录文件通知单名称']}\"\n",
    "            doc.save(output_path)\n",
    "        else:\n",
    "            doc = DocxTemplate(TZD_ABA_B_TB_IQC_path)\n",
    "            doc.render(record)\n",
    "            output_path = output_dir / f\"{record['IQC记录文件通知单名称']}\"\n",
    "            doc.save(output_path)\n",
    "            \n",
    "    print(record['IQC文件编号'],\" is done!\")\n",
    "\n",
    "print(\"All Done!\")"
   ]
  },
  {
   "cell_type": "markdown",
   "id": "1673d8cd-bfa5-48be-beac-56ab47151764",
   "metadata": {
    "editable": true,
    "slideshow": {
     "slide_type": ""
    },
    "tags": []
   },
   "source": [
    "# step 6 根据需要可以运行此文件读取word文件中正文的表格数量保存到result_TableNum.csv中"
   ]
  },
  {
   "cell_type": "code",
   "execution_count": 1,
   "id": "e2eb49bd-9209-4f03-b2aa-776cf9249b0a",
   "metadata": {
    "collapsed": true,
    "jupyter": {
     "outputs_hidden": true,
     "source_hidden": true
    }
   },
   "outputs": [
    {
     "name": "stdout",
     "output_type": "stream",
     "text": [
      "Done!\n"
     ]
    }
   ],
   "source": [
    "import os\n",
    "import docx\n",
    "import pandas as pd\n",
    "from pathlib import Path\n",
    "\n",
    "def extract_table_info(docx_path):\n",
    "    document = docx.Document(docx_path)\n",
    "    num_tables = len(document.tables)\n",
    "    filename = os.path.basename(docx_path)\n",
    "    return [filename, num_tables]\n",
    "\n",
    "def main():\n",
    "    base_dir = Path.cwd()\n",
    "    word_path = base_dir / \"word_files\"\n",
    "    docx_list = [file for file in word_path.glob(\"*.docx\")]\n",
    "\n",
    "    output_path = base_dir / \"result\" / \"result_TableNum.csv\"\n",
    "\n",
    "    data = [extract_table_info(docx_path) for docx_path in docx_list]\n",
    "\n",
    "    # 创建DataFrame\n",
    "    df = pd.DataFrame(data, columns=[\"FileName\", \"TableNum\"])\n",
    "\n",
    "    # 保存到CSV文件\n",
    "    df.to_csv(output_path, encoding='utf_8_sig', index=False)\n",
    "\n",
    "    print(\"Done!\")\n",
    "\n",
    "if __name__ == \"__main__\":\n",
    "    main()"
   ]
  },
  {
   "cell_type": "markdown",
   "id": "da4dbed5-3229-46cd-b11d-37368fd98927",
   "metadata": {
    "editable": true,
    "slideshow": {
     "slide_type": ""
    },
    "tags": []
   },
   "source": [
    "# step 7 根据需要保存word文件中的图片到指定文件夹备用。"
   ]
  },
  {
   "cell_type": "code",
   "execution_count": 2,
   "id": "dbdf8006-c4ae-45f5-92d5-189c3ff0089c",
   "metadata": {
    "collapsed": true,
    "jupyter": {
     "outputs_hidden": true,
     "source_hidden": true
    }
   },
   "outputs": [
    {
     "name": "stdout",
     "output_type": "stream",
     "text": [
      "Done!\n"
     ]
    }
   ],
   "source": [
    "import docx\n",
    "import os\n",
    "from pathlib import Path\n",
    "\n",
    "def extract_and_save_pictures(word_path, result_path):\n",
    "    \"\"\"\n",
    "    从Word文件中提取图片并保存到指定文件夹\n",
    "    :param word_path: Word文件路径\n",
    "    :param result_path: 结果保存路径\n",
    "    \"\"\"\n",
    "    doc = docx.Document(word_path)\n",
    "    rels = doc.part.rels\n",
    "\n",
    "    for rel in rels:\n",
    "        target_ref = rels[rel].target_ref\n",
    "        if \"image\" in target_ref:\n",
    "            if not result_path.exists():\n",
    "                result_path.mkdir(parents=True)\n",
    "\n",
    "            # 获取图片名称，去除可能的路径信息\n",
    "            img_name = os.path.basename(target_ref)\n",
    "            word_name = os.path.splitext(word_path.name)[0]\n",
    "            img_name = f'{word_name}_{img_name}'\n",
    "\n",
    "            # 保存图片\n",
    "            img_path = result_path / img_name\n",
    "            with img_path.open(\"wb\") as img_file:\n",
    "                img_file.write(rels[rel].target_part.blob)\n",
    "\n",
    "# 示例用法\n",
    "base_dir = Path.cwd()\n",
    "word_path = base_dir / \"word_files\"\n",
    "images_path = base_dir / \"images\"\n",
    "\n",
    "for word_file in word_path.glob(\"*.docx\"):\n",
    "    extract_and_save_pictures(word_file, images_path)\n",
    "\n",
    "print(\"Done!\")"
   ]
  },
  {
   "cell_type": "code",
   "execution_count": 3,
   "id": "284ce175-4f4c-41ca-8d37-aeb526e60ce2",
   "metadata": {
    "collapsed": true,
    "jupyter": {
     "outputs_hidden": true,
     "source_hidden": true
    }
   },
   "outputs": [
    {
     "ename": "AttributeError",
     "evalue": "'CT_TrPr' object has no attribute '_add_trPr'",
     "output_type": "error",
     "traceback": [
      "\u001b[1;31m---------------------------------------------------------------------------\u001b[0m",
      "\u001b[1;31mAttributeError\u001b[0m                            Traceback (most recent call last)",
      "Cell \u001b[1;32mIn[3], line 51\u001b[0m\n\u001b[0;32m     49\u001b[0m \u001b[38;5;28;01mif\u001b[39;00m filename\u001b[38;5;241m.\u001b[39mendswith(\u001b[38;5;124m\"\u001b[39m\u001b[38;5;124m.docx\u001b[39m\u001b[38;5;124m\"\u001b[39m):\n\u001b[0;32m     50\u001b[0m     file_path \u001b[38;5;241m=\u001b[39m os\u001b[38;5;241m.\u001b[39mpath\u001b[38;5;241m.\u001b[39mjoin(folder_path, filename)\n\u001b[1;32m---> 51\u001b[0m     add_row_to_last_table(file_path, text_to_add, row_index_to_add)\n",
      "Cell \u001b[1;32mIn[3], line 19\u001b[0m, in \u001b[0;36madd_row_to_last_table\u001b[1;34m(file_path, text, row_index)\u001b[0m\n\u001b[0;32m     17\u001b[0m \u001b[38;5;28;01mif\u001b[39;00m row_index \u001b[38;5;241m<\u001b[39m \u001b[38;5;28mlen\u001b[39m(table_rows):\n\u001b[0;32m     18\u001b[0m     new_row \u001b[38;5;241m=\u001b[39m table_rows[row_index]\u001b[38;5;241m.\u001b[39m_tr\n\u001b[1;32m---> 19\u001b[0m     new_row_cells \u001b[38;5;241m=\u001b[39m new_row\u001b[38;5;241m.\u001b[39mget_or_add_trPr()\u001b[38;5;241m.\u001b[39m_add_trPr()\n\u001b[0;32m     20\u001b[0m     new_cell \u001b[38;5;241m=\u001b[39m new_row_cells\u001b[38;5;241m.\u001b[39madd_tc()\n\u001b[0;32m     21\u001b[0m     new_p \u001b[38;5;241m=\u001b[39m new_cell\u001b[38;5;241m.\u001b[39madd_paragraph()\n",
      "\u001b[1;31mAttributeError\u001b[0m: 'CT_TrPr' object has no attribute '_add_trPr'"
     ]
    }
   ],
   "source": [
    "from docx import Document\n",
    "from docx.shared import Inches\n",
    "from pathlib import Path\n",
    "\n",
    "def add_row_to_last_table(file_path, text, row_index):\n",
    "    # 打开Word文档\n",
    "    doc = Document(file_path)\n",
    "\n",
    "    # 获取文档中所有表格\n",
    "    tables = doc.tables\n",
    "    if tables:\n",
    "        # 找到最后一个表格\n",
    "        last_table = tables[-1]\n",
    "\n",
    "        # 在指定行后插入一行\n",
    "        table_rows = last_table.rows\n",
    "        if row_index < len(table_rows):\n",
    "            new_row = table_rows[row_index]._tr\n",
    "            new_row_cells = new_row.get_or_add_trPr()._add_trPr()\n",
    "            new_cell = new_row_cells.add_tc()\n",
    "            new_p = new_cell.add_paragraph()\n",
    "            new_p.add_run(text)\n",
    "\n",
    "            # 设置第一个单元格的宽度\n",
    "            first_cell = new_row.cells[0]\n",
    "            first_cell.width = Inches(1.0)\n",
    "\n",
    "            # 保存修改后的文档\n",
    "            doc.save(file_path)\n",
    "            print(f\"成功向文件 {file_path} 的最后一个表格的第 {row_index+1} 行添加了一行\")\n",
    "        else:\n",
    "            print(f\"指定的行索引 {row_index} 超出了表格的行数\")\n",
    "    else:\n",
    "        print(\"文档中没有表格\")\n",
    "\n",
    "# 获取当前工作目录\n",
    "base_dir = Path.cwd()\n",
    "\n",
    "# 定义输入和输出文件夹\n",
    "folder_path = base_dir / \"xxx\"  \n",
    "\n",
    "# 指定要添加的文字和行索引\n",
    "text_to_add = \"备注\"\n",
    "row_index_to_add = 1\n",
    "\n",
    "# 遍历文件夹下的所有Word文件\n",
    "import os\n",
    "for filename in os.listdir(folder_path):\n",
    "    if filename.endswith(\".docx\"):\n",
    "        file_path = os.path.join(folder_path, filename)\n",
    "        add_row_to_last_table(file_path, text_to_add, row_index_to_add)\n"
   ]
  },
  {
   "cell_type": "code",
   "execution_count": null,
   "id": "c636327b-6e3c-49f0-a0e4-e24aa6541a4f",
   "metadata": {
    "collapsed": true,
    "jupyter": {
     "outputs_hidden": true,
     "source_hidden": true
    }
   },
   "outputs": [],
   "source": [
    "from docx import Document\n",
    "from docx.shared import Inches\n",
    "\n",
    "def add_row_to_last_table(file_path, text, row_index):\n",
    "    # 打开Word文档\n",
    "    doc = Document(file_path)\n",
    "\n",
    "    # 获取文档中所有表格\n",
    "    tables = doc.tables\n",
    "    if tables:\n",
    "        # 找到最后一个表格\n",
    "        last_table = tables[-1]\n",
    "\n",
    "        # 在指定行后插入一行\n",
    "        table_rows = last_table.rows\n",
    "        if row_index < len(table_rows):\n",
    "            new_row = table_rows[row_index]._tr\n",
    "            new_row_cells = new_row.get_or_add_trPr()._add_trPr()\n",
    "            new_cell = new_row_cells.add_tc()\n",
    "            new_p = new_cell.add_paragraph()\n",
    "            new_p.add_run(text)\n",
    "\n",
    "            # 设置第一个单元格的宽度\n",
    "            first_cell = new_row.cells[0]\n",
    "            first_cell.width = Inches(1.0)\n",
    "\n",
    "            # 保存修改后的文档\n",
    "            doc.save(file_path)\n",
    "            print(f\"成功向文件 {file_path} 的最后一个表格的第 {row_index+1} 行添加了一行\")\n",
    "        else:\n",
    "            print(f\"指定的行索引 {row_index} 超出了表格的行数\")\n",
    "    else:\n",
    "        print(\"文档中没有表格\")\n",
    "\n",
    "# 指定文件夹路径\n",
    "folder_path = \"your_folder_path\"\n",
    "\n",
    "# 指定要添加的文字和行索引\n",
    "text_to_add = \"指定的文字\"\n",
    "row_index_to_add = 2\n",
    "\n",
    "# 遍历文件夹下的所有Word文件\n",
    "import os\n",
    "for filename in os.listdir(folder_path):\n",
    "    if filename.endswith(\".docx\"):\n",
    "        file_path = os.path.join(folder_path, filename)\n",
    "        add_row_to_last_table(file_path, text_to_add, row_index_to_add)\n"
   ]
  },
  {
   "cell_type": "code",
   "execution_count": null,
   "id": "ec5d4754-dc69-4501-84b9-20bbdb505e36",
   "metadata": {
    "collapsed": true,
    "jupyter": {
     "outputs_hidden": true,
     "source_hidden": true
    }
   },
   "outputs": [],
   "source": [
    "from docx import Document\n",
    "\n",
    "def copy_row_to_another_document(source_doc_path, dest_doc_path):\n",
    "    # 打开源文档和目标文档\n",
    "    source_doc = Document(source_doc_path)\n",
    "    dest_doc = Document(dest_doc_path)\n",
    "\n",
    "    # 获取源文档中的第一个表格的第一行\n",
    "    source_table = source_doc.tables[0]\n",
    "    source_row = source_table.rows[0]\n",
    "\n",
    "    # 获取目标文档中最后一个表格的最后一行\n",
    "    dest_table = dest_doc.tables[-1]\n",
    "    dest_rows = dest_table.rows\n",
    "    dest_last_row_index = len(dest_rows) - 1\n",
    "    dest_last_row = dest_rows[dest_last_row_index]\n",
    "\n",
    "    # 复制源行的每个单元格到目标行的对应位置\n",
    "    for i, source_cell in enumerate(source_row.cells):\n",
    "        dest_cell = dest_last_row.cells[i]\n",
    "        dest_cell.text = source_cell.text\n",
    "\n",
    "    # 保存目标文档\n",
    "    dest_doc.save(dest_doc_path)\n",
    "\n",
    "# 指定源文档和目标文档的路径\n",
    "source_file_path = \"source_document.docx\"\n",
    "dest_file_path = \"destination_document.docx\"\n",
    "\n",
    "# 调用函数将源文档中的一行复制到目标文档的最后一个表格的最后一行\n",
    "copy_row_to_another_document(source_file_path, dest_file_path)\n"
   ]
  },
  {
   "cell_type": "code",
   "execution_count": 5,
   "id": "8aa0a25e-8795-4462-adb6-c814163119d6",
   "metadata": {
    "collapsed": true,
    "jupyter": {
     "outputs_hidden": true,
     "source_hidden": true
    }
   },
   "outputs": [
    {
     "ename": "TypeError",
     "evalue": "Table.add_row() takes 1 positional argument but 2 were given",
     "output_type": "error",
     "traceback": [
      "\u001b[1;31m---------------------------------------------------------------------------\u001b[0m",
      "\u001b[1;31mTypeError\u001b[0m                                 Traceback (most recent call last)",
      "Cell \u001b[1;32mIn[5], line 26\u001b[0m\n\u001b[0;32m     23\u001b[0m new_row_data \u001b[38;5;241m=\u001b[39m [\u001b[38;5;124m\"\u001b[39m\u001b[38;5;124m新单元格1\u001b[39m\u001b[38;5;124m\"\u001b[39m, \u001b[38;5;124m\"\u001b[39m\u001b[38;5;124m新单元格2\u001b[39m\u001b[38;5;124m\"\u001b[39m, \u001b[38;5;124m\"\u001b[39m\u001b[38;5;124m新单元格3\u001b[39m\u001b[38;5;124m\"\u001b[39m]  \u001b[38;5;66;03m# 替换为你想要添加的内容\u001b[39;00m\n\u001b[0;32m     25\u001b[0m \u001b[38;5;66;03m# 调用函数添加新行\u001b[39;00m\n\u001b[1;32m---> 26\u001b[0m add_row_after_first_row(doc_path, new_row_data)\n",
      "Cell \u001b[1;32mIn[5], line 11\u001b[0m, in \u001b[0;36madd_row_after_first_row\u001b[1;34m(doc_path, new_row_data)\u001b[0m\n\u001b[0;32m      8\u001b[0m table \u001b[38;5;241m=\u001b[39m doc\u001b[38;5;241m.\u001b[39mtables[\u001b[38;5;241m0\u001b[39m]\n\u001b[0;32m     10\u001b[0m \u001b[38;5;66;03m# 在第一行后插入一行\u001b[39;00m\n\u001b[1;32m---> 11\u001b[0m new_row \u001b[38;5;241m=\u001b[39m table\u001b[38;5;241m.\u001b[39madd_row(\u001b[38;5;241m1\u001b[39m)\u001b[38;5;241m.\u001b[39mcells\n\u001b[0;32m     13\u001b[0m \u001b[38;5;66;03m# 设置新行的数据\u001b[39;00m\n\u001b[0;32m     14\u001b[0m \u001b[38;5;28;01mfor\u001b[39;00m i, cell_data \u001b[38;5;129;01min\u001b[39;00m \u001b[38;5;28menumerate\u001b[39m(new_row_data):\n",
      "\u001b[1;31mTypeError\u001b[0m: Table.add_row() takes 1 positional argument but 2 were given"
     ]
    }
   ],
   "source": [
    "from docx import Document\n",
    "\n",
    "def add_row_after_first_row(doc_path, new_row_data):\n",
    "    # 打开Word文档\n",
    "    doc = Document(doc_path)\n",
    "\n",
    "    # 获取第一个表格\n",
    "    table = doc.tables[0]\n",
    "\n",
    "    # 在第一行后插入一行\n",
    "    new_row = table.add_row(1).cells\n",
    "\n",
    "    # 设置新行的数据\n",
    "    for i, cell_data in enumerate(new_row_data):\n",
    "        new_row[i].text = cell_data\n",
    "\n",
    "    # 保存文档\n",
    "    doc.save(doc_path)\n",
    "    print(\"成功在表格的第一行后添加了一行\")\n",
    "\n",
    "# 指定Word文档路径和要插入的新行数据\n",
    "doc_path = \"t/1.docx\"\n",
    "new_row_data = [\"新单元格1\", \"新单元格2\", \"新单元格3\"]  # 替换为你想要添加的内容\n",
    "\n",
    "# 调用函数添加新行\n",
    "add_row_after_first_row(doc_path, new_row_data)\n"
   ]
  },
  {
   "cell_type": "code",
   "execution_count": null,
   "id": "caaaa35e-0865-40cb-8b48-ffae05ec6b53",
   "metadata": {
    "collapsed": true,
    "jupyter": {
     "outputs_hidden": true,
     "source_hidden": true
    }
   },
   "outputs": [],
   "source": [
    "from docx import Document\n",
    "doc = Document('your docx file')\n",
    "t = doc.tables[0]\n",
    "row0 = t.rows[0] # for example\n",
    "row1 = t.rows[-1]\n",
    "row0._tr.addnext(row1._tr)"
   ]
  },
  {
   "cell_type": "code",
   "execution_count": null,
   "id": "a8f5c4f9-2a8a-4e10-94fd-533d1e0741c8",
   "metadata": {
    "collapsed": true,
    "jupyter": {
     "outputs_hidden": true,
     "source_hidden": true
    }
   },
   "outputs": [],
   "source": [
    "from docx import Document\n",
    "\n",
    "def insert_row_after_first_row(doc_path, new_row_data):\n",
    "    # 打开Word文档\n",
    "    doc = Document(doc_path)\n",
    "\n",
    "    # 获取第一个表格\n",
    "    table = doc.tables[0]\n",
    "\n",
    "    # 创建一个新行\n",
    "    new_row = table.add_row().cells\n",
    "\n",
    "    # 在第一行后插入新行\n",
    "    for i, cell_data in enumerate(new_row_data):\n",
    "        new_row[i].text = cell_data\n",
    "\n",
    "    # 将新行移动到第一行的后面\n",
    "    first_row_cells = table.rows[0].cells\n",
    "    for i, cell in enumerate(first_row_cells):\n",
    "        cell.text, new_row[i].text = new_row[i].text, cell.text\n",
    "\n",
    "    # 保存文档\n",
    "    doc.save(doc_path)\n",
    "    print(\"成功在表格的第一行后插入了一行\")\n",
    "\n",
    "# 指定Word文档路径和要插入的新行数据\n",
    "doc_path = \"your_document.docx\"\n",
    "new_row_data = [\"新单元格1\", \"新单元格2\", \"新单元格3\"]  # 替换为你想要插入的内容\n",
    "\n",
    "# 调用函数插入新行\n",
    "insert_row_after_first_row(doc_path, new_row_data)\n"
   ]
  }
 ],
 "metadata": {
  "kernelspec": {
   "display_name": "Python 3 (ipykernel)",
   "language": "python",
   "name": "python3"
  },
  "language_info": {
   "codemirror_mode": {
    "name": "ipython",
    "version": 3
   },
   "file_extension": ".py",
   "mimetype": "text/x-python",
   "name": "python",
   "nbconvert_exporter": "python",
   "pygments_lexer": "ipython3",
   "version": "3.11.5"
  }
 },
 "nbformat": 4,
 "nbformat_minor": 5
}
