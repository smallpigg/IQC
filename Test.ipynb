{
 "cells": [
  {
   "cell_type": "code",
   "execution_count": 2,
   "id": "afed07d6-81a0-4a9c-9921-82b49291dc97",
   "metadata": {},
   "outputs": [
    {
     "name": "stdout",
     "output_type": "stream",
     "text": [
      "[10.]\n"
     ]
    },
    {
     "name": "stderr",
     "output_type": "stream",
     "text": [
      "C:\\Users\\xx\\.conda\\envs\\IQC\\Lib\\site-packages\\statsmodels\\stats\\power.py:525: ConvergenceWarning: \n",
      "Failed to converge on a solution.\n",
      "\n",
      "  warnings.warn(convergence_doc, ConvergenceWarning)\n"
     ]
    }
   ],
   "source": [
    "import statsmodels.stats.power as smp\n",
    "\n",
    "# 定义参数\n",
    "mean = 98.2\n",
    "sd = 0.46303\n",
    "delta = -1.2 / 4.8  # 差值\n",
    "effect_size = delta / sd  # 计算效应值（delta / sd）\n",
    "alpha = 0.05  # 显著性水平\n",
    "power = 0.9  # 检验力（1 - β）\n",
    "alternative = 'larger'  # 单侧检验\n",
    "\n",
    "# 计算所需样本量\n",
    "result = smp.tt_solve_power(effect_size=effect_size, alpha=alpha, power=power, alternative=alternative)\n",
    "\n",
    "print(result)\n"
   ]
  },
  {
   "cell_type": "code",
   "execution_count": null,
   "id": "ff8fe07d-04ca-4a86-a25f-1764894bf18b",
   "metadata": {},
   "outputs": [],
   "source": []
  }
 ],
 "metadata": {
  "kernelspec": {
   "display_name": "Python 3 (ipykernel)",
   "language": "python",
   "name": "python3"
  },
  "language_info": {
   "codemirror_mode": {
    "name": "ipython",
    "version": 3
   },
   "file_extension": ".py",
   "mimetype": "text/x-python",
   "name": "python",
   "nbconvert_exporter": "python",
   "pygments_lexer": "ipython3",
   "version": "3.11.5"
  }
 },
 "nbformat": 4,
 "nbformat_minor": 5
}
